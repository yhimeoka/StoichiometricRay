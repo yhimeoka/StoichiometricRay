{
 "cells": [
  {
   "cell_type": "code",
   "execution_count": 200,
   "metadata": {},
   "outputs": [],
   "source": [
    "import numpy as np\n",
    "import itertools\n",
    "import matplotlib.pyplot as plt\n",
    "import main_module as mm\n",
    "from pypoman import compute_polytope_vertices\n",
    "from scipy.spatial import ConvexHull\n",
    "from shapely.geometry import Polygon\n",
    "import os\n",
    "import importlib"
   ]
  },
  {
   "cell_type": "markdown",
   "metadata": {},
   "source": [
    "### Test Code. Compute the Stoichiometric Ray of the reversible Brusselator"
   ]
  },
  {
   "cell_type": "code",
   "execution_count": 201,
   "metadata": {},
   "outputs": [],
   "source": [
    "importlib.reload(mm)\n",
    "os.makedirs('Brusselator/',exist_ok=True)\n",
    "target = 'B'\n",
    "target_states = {'A':np.array([[0.6,0.6],[0.6,0.59]]),'B':np.array([[1.5,1.5],[1.51,1.51]])}"
   ]
  },
  {
   "cell_type": "code",
   "execution_count": 202,
   "metadata": {},
   "outputs": [],
   "source": [
    "def compute_polytope(start_polytope_vetices, sigma, k, S, subs, prod):\n",
    "    N = np.shape(S)[0]\n",
    "    A, b = mm.ConstructMatrix(start_polytope_vetices, sigma, k, S, subs, prod, model='Brusselator')\n",
    "    vertices = compute_polytope_vertices(A, b)\n",
    "    \n",
    "    vertices = mm.reduce_vertices(vertices, S, start_polytope_vetices)\n",
    "    if len(vertices) > 2:\n",
    "        hull = ConvexHull(vertices)\n",
    "        vertices = vertices[hull.vertices]\n",
    "\n",
    "    return vertices\n"
   ]
  },
  {
   "cell_type": "code",
   "execution_count": 203,
   "metadata": {},
   "outputs": [],
   "source": [
    "MAX_PATH_LENGTH = 5\n",
    "k = [1.0/0.75,2.,2.]\n",
    "S = np.array([[1,-1,1],[0,1,-1]])\n",
    "N, R = np.shape(S)\n",
    "subs, prod = [[], [0], [1]], [[0],[1],[0]] \n",
    "paths = list(itertools.product([i for i in range(R)], repeat=MAX_PATH_LENGTH))"
   ]
  },
  {
   "cell_type": "code",
   "execution_count": 204,
   "metadata": {},
   "outputs": [],
   "source": [
    "#paths = [(1,0)]\n",
    "polytopes_all = []\n",
    "extreme_points_all = []\n",
    "start_points_all = []\n",
    "for single_path in paths:\n",
    "    start_polytope_vetices = target_states[target].copy()\n",
    "    #start_polytope_vetices = np.array([[1.5,1.5],[1.51,1.51]])\n",
    "    sigma = mm.compute_flux_sign(start_polytope_vetices[0],k)\n",
    "\n",
    "    extreme_points = []\n",
    "    start_points = []\n",
    "    vertices = compute_polytope(start_polytope_vetices, sigma, k, S, subs, prod)\n",
    "    start_points.append(start_polytope_vetices)\n",
    "    extreme_points.append(vertices)\n",
    "\n",
    "    for i, p in enumerate(single_path):\n",
    "        \n",
    "        vertices_on_manifolds = mm.vertices_on_manifolds_Brusselator(vertices,k)\n",
    "        if vertices_on_manifolds[p].size < 2*N:\n",
    "            #print('no more vertices on manifold')\n",
    "            break\n",
    "        #print(vertices_on_manifolds[p])\n",
    "        sigma[p] = - sigma[p]\n",
    "        #print(f'sigma={sigma}')\n",
    "        vertices = compute_polytope(vertices_on_manifolds[p], sigma, k, S, subs, prod)\n",
    "        start_points.append(vertices_on_manifolds[p])\n",
    "        extreme_points.append(vertices)\n",
    "        \n",
    "    if len(extreme_points) > 1:\n",
    "        polytopes_all.append(extreme_points)\n",
    "        start_points_all.append(start_points)\n",
    "        extreme_points_all.append(extreme_points)\n"
   ]
  },
  {
   "cell_type": "markdown",
   "metadata": {},
   "source": [
    "making polytope union is quite tricky and can lead to weird result. \n",
    "\n",
    "I decided to polytope union manually"
   ]
  },
  {
   "cell_type": "markdown",
   "metadata": {},
   "source": [
    "### Visualization of ray extension for two specific paths. \n",
    "\n",
    "This is a code for the start point as $(0.6,0.6)$\n",
    "\n"
   ]
  },
  {
   "cell_type": "code",
   "execution_count": 205,
   "metadata": {},
   "outputs": [],
   "source": [
    "if target == 'A':\n",
    "    fig, ax = mm.plot_initialize(k)\n",
    "    path_index = 60\n",
    "    for i in range(len(extreme_points_all[path_index])):\n",
    "        hatch = 'ox'\n",
    "        start_points = start_points_all[path_index][i][0,:].reshape(-1,1).T\n",
    "        if i > 0:\n",
    "            hatch = 'o'\n",
    "            start_points = []\n",
    "        mm.plot_polytope(fig,ax,start_points,extreme_points_all[path_index][i],i%5,hatch=hatch)\n",
    "    path_index = 100\n",
    "    for i in range(1,len(extreme_points_all[path_index])):\n",
    "        mm.plot_polytope(fig,ax,[],extreme_points_all[path_index][i],i%5,hatch='x')\n",
    "\n",
    "    fig.savefig(f'Brusselator/Brusselator_{target}_tworays.svg', format='svg')  # Saves as an SVG file\n",
    "    fig.savefig(f'Brusselator/Brusselator_{target}_tworays.png',dpi=512)  # Saves as an PNG file\n",
    "\n"
   ]
  },
  {
   "cell_type": "markdown",
   "metadata": {},
   "source": [
    "### Manualy picked-up union polygons\n",
    "\n",
    "Polygon union using shapely failed by some reason (too many polytopes?)"
   ]
  },
  {
   "cell_type": "code",
   "execution_count": 206,
   "metadata": {},
   "outputs": [],
   "source": [
    "if target == 'A':\n",
    "    union_polytope = {0:[[[0,0],[0.4,0.8],[0.75,0.45],[0.75,0.375]]],\n",
    "                      1:[[[0.75 , 1.5], [0.75 , 0.375],[2,1],[2,4]], [[0,0],[0.75,0.375],[0.75,0]],[[0,0],[0.4,0.8],[0,1.2]]],\n",
    "                      2:[[[0,0],[0.75,0.375],[0.75,1.5]],[[0.75,0],[2,0],[2,1],[0.75,0.375]],[[0.75, 1.5], [2.0, 4.0], [0.75, 4.0]]],\n",
    "                      3:[[[2.0, 4.0], [0.75, 1.5],[0.75, 0.375],[2.0, 1.0]],[[0.0, 0.0], [0.75, 0], [0.75, 0.375]],[[0.0, 4.0], [0, 0], [0.75, 1.5], [0.75, 4.0]]]}\n",
    "if target == 'B':\n",
    "    union_polytope = {0:[[[2.0, 4.0], [1.0, 2.0], [2.0, 1.0]]],\n",
    "                      1:[[[2.0, 4.0],[0.75, 4.0],[0.75, 2.25],[1.0, 2.0]]],\n",
    "                      2:[[[0, 4.0],[0, 2.25],[0.75, 2.25],[0.75, 4.0]]]}"
   ]
  },
  {
   "cell_type": "markdown",
   "metadata": {},
   "source": [
    "### Visualization of the union polygon with different color for different generation"
   ]
  },
  {
   "cell_type": "code",
   "execution_count": 207,
   "metadata": {},
   "outputs": [
    {
     "data": {
      "image/png": "[encoded data removed]",
      "text/plain": [
       "<Figure size 576x432 with 1 Axes>"
      ]
     },
     "metadata": {
      "needs_background": "light"
     },
     "output_type": "display_data"
    }
   ],
   "source": [
    "importlib.reload(mm)\n",
    "fig, ax = mm.plot_initialize(k)\n",
    "for i in reversed(range(len(union_polytope))):\n",
    "    for p in union_polytope[i]:\n",
    "        if i == 0:\n",
    "            start_points = target_states[target][0,:].reshape(-1,1).T\n",
    "        else:\n",
    "            start_points = []\n",
    "        mm.plot_polytope(fig,ax,[],np.array(p),-1,alpha=1.0)\n",
    "        mm.plot_polytope(fig,ax,start_points,np.array(p),i%4)\n",
    "plt.show()\n",
    "fig.savefig(f'Brusselator/Brusselator_{target}.svg', format='svg')  # Saves as an SVG file\n",
    "fig.savefig(f'Brusselator/Brusselator_{target}.png',dpi=512)  # Saves as an PNG file\n"
   ]
  },
  {
   "cell_type": "markdown",
   "metadata": {},
   "source": [
    "## Total Volume of polytope at given generation\n",
    "\n",
    "Union computation worked for this size of the polygons with shapely"
   ]
  },
  {
   "cell_type": "code",
   "execution_count": 208,
   "metadata": {},
   "outputs": [],
   "source": [
    "vol = []\n",
    "polytope = Polygon(union_polytope[0][0])\n",
    "vol.append(polytope.area)\n",
    "for i in range(1,len(union_polytope)):\n",
    "    for p in union_polytope[i]:\n",
    "        vertices = mm.sort_points(np.array(p))\n",
    "        new_polytope = Polygon(vertices)\n",
    "        polytope = polytope.union(new_polytope)\n",
    "    vol.append(polytope.area)\n",
    "vol.append(vol[-1])\n",
    "vol.append(vol[-1])\n",
    "with open(f'Brusselator/volume_tgt{target}.txt','w') as f:\n",
    "    for i,v in enumerate(vol):\n",
    "        f.write(f'{i} {v}\\n')\n"
   ]
  },
  {
   "cell_type": "code",
   "execution_count": 209,
   "metadata": {},
   "outputs": [
    {
     "data": {
      "image/png": "[encoded data removed]",
      "text/plain": [
       "<Figure size 432x288 with 1 Axes>"
      ]
     },
     "metadata": {
      "needs_background": "light"
     },
     "output_type": "display_data"
    }
   ],
   "source": [
    "# plot volume change\n",
    "fig, ax = plt.subplots()\n",
    "ax.plot(vol, 'o-')\n",
    "ax.set_xlabel('flip count')\n",
    "ax.set_ylabel('volume')\n",
    "plt.show()"
   ]
  }
 ],
 "metadata": {
  "kernelspec": {
   "display_name": "Python 3",
   "language": "python",
   "name": "python3"
  },
  "language_info": {
   "codemirror_mode": {
    "name": "ipython",
    "version": 3
   },
   "file_extension": ".py",
   "mimetype": "text/x-python",
   "name": "python",
   "nbconvert_exporter": "python",
   "pygments_lexer": "ipython3",
   "version": "3.9.18"
  }
 },
 "nbformat": 4,
 "nbformat_minor": 2
}
