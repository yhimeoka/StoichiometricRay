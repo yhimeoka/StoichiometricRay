{
 "cells": [
  {
   "cell_type": "code",
   "execution_count": 1,
   "id": "7493ff28",
   "metadata": {},
   "outputs": [],
   "source": [
    "\n",
    "import numpy as np\n",
    "import itertools\n",
    "import main_module as mm\n",
    "import importlib"
   ]
  },
  {
   "cell_type": "markdown",
   "id": "99059c88",
   "metadata": {},
   "source": [
    "## Load the active and inoperative attractors\n",
    "\n",
    "for that, model.ipynb should be run"
   ]
  },
  {
   "cell_type": "code",
   "execution_count": 2,
   "id": "f8b51241",
   "metadata": {},
   "outputs": [],
   "source": [
    "importlib.reload(mm)\n",
    "X = np.loadtxt('result/glyc_survive_dead.csv',delimiter=',')\n",
    "inoperative, active = X[1], X[0]\n",
    "sigma_inoperative = np.sign(mm.flux(inoperative,mode='unsolved'))\n",
    "sigma_active = np.sign(mm.flux(active,mode='unsolved'))"
   ]
  },
  {
   "cell_type": "markdown",
   "id": "f192472c",
   "metadata": {},
   "source": [
    "### Concentration at the inoperative att. "
   ]
  },
  {
   "cell_type": "code",
   "execution_count": 3,
   "id": "96317741",
   "metadata": {},
   "outputs": [
    {
     "data": {
      "text/plain": [
       "array([4.22488946e-06, 4.14946395e-06, 4.60586450e-06, 9.99995394e-01])"
      ]
     },
     "execution_count": 3,
     "metadata": {},
     "output_type": "execute_result"
    }
   ],
   "source": [
    "inoperative"
   ]
  },
  {
   "cell_type": "markdown",
   "id": "741136c5",
   "metadata": {},
   "source": [
    "### Concentration at the inoperative att. "
   ]
  },
  {
   "cell_type": "code",
   "execution_count": null,
   "id": "29621563",
   "metadata": {},
   "outputs": [],
   "source": [
    "active"
   ]
  },
  {
   "cell_type": "markdown",
   "id": "eb2f53dc",
   "metadata": {},
   "source": [
    "### Directionalities of the flux"
   ]
  },
  {
   "cell_type": "code",
   "execution_count": null,
   "id": "f980eab1",
   "metadata": {},
   "outputs": [],
   "source": [
    "np.sign(mm.flux(active,mode='unsolved')), np.sign(mm.flux(inoperative,mode='unsolved'))"
   ]
  },
  {
   "cell_type": "markdown",
   "id": "c6420a4a",
   "metadata": {},
   "source": [
    "## Compute the non-returnable set (!! This takes a while !!)\n",
    "\n",
    "This is for Fig.3A"
   ]
  },
  {
   "cell_type": "code",
   "execution_count": null,
   "id": "750f9a8a",
   "metadata": {},
   "outputs": [],
   "source": [
    "importlib.reload(mm)\n",
    "# ===== parameters for optimization =====\n",
    "experr_tol = 0.2 # less than 5% error is acceptable \n",
    "conc_lb, FuncPieceError, max_path_length = mm.get_optimization_params()\n",
    "\n",
    "# ===== phase space to explore =====\n",
    "n = 18\n",
    "# The ranges of X, Y, and Z are set besed on the rough scan of the phase space \n",
    "X = np.linspace(np.log10(1e-6),np.log10(1),n) \n",
    "Y = np.linspace(np.log10(1e-6),np.log10(1),n) \n",
    "Z = np.linspace(np.log10(2e-6),np.log10(0.2),n)\n",
    "\n",
    "# ===== main part =====\n",
    "result = []\n",
    "for source_indices in list(itertools.product(X,Y,Z)):\n",
    "    source = [10**_ for _ in source_indices]\n",
    "    FuncPieceError = 1e-4\n",
    "    while FuncPieceError > 0.9e-7:\n",
    "        res = mm.compute_transitivity(source, active, conc_lb, max_path_length, FuncPieceError=FuncPieceError, experr_tol=experr_tol)\n",
    "        if res[4] < experr_tol:\n",
    "            break\n",
    "        FuncPieceError = FuncPieceError*0.8\n",
    "\n",
    "    result.append(res)\n",
    "    "
   ]
  },
  {
   "cell_type": "markdown",
   "id": "7d4a269e",
   "metadata": {},
   "source": [
    "### Plot the distribution of maximum violations \n",
    "\n",
    "This is the step for making sure if the returnability showes a clear bimodality\n",
    "\n",
    "Note that $10^{-12}$ is added for the plot (modulate it depending on the data)"
   ]
  },
  {
   "cell_type": "code",
   "execution_count": null,
   "id": "5c2ecc8b",
   "metadata": {},
   "outputs": [],
   "source": [
    "#mm.plot_maxviol(result)"
   ]
  },
  {
   "cell_type": "markdown",
   "id": "1927989b",
   "metadata": {},
   "source": [
    "## Plot the distribution of the maximum error of the general constraint exponential\n",
    "\n",
    "Here, the error $\\Delta_{ij}$\n",
    "### $$\\Delta_{ij}\\equiv \\frac{2|e^{lx^*_{ij}}- x^*_{ij}|}{e^{lx^*_{ij}}+ x^*_{ij}}$$\n",
    "\n",
    "is calculated for each best solution (giving the minimum violation). $i$ and $j$ are indices for the flip count and the variable index. $lx$ is $\\ln x$ variable.\n",
    "\n",
    "The distributions of $\\max_{ij}\\Delta_{ij}$ and $\\langle \\Delta_{ij}\\rangle {}_{ij}$ are plotted\n"
   ]
  },
  {
   "cell_type": "code",
   "execution_count": null,
   "id": "a7d65a2b",
   "metadata": {},
   "outputs": [],
   "source": [
    "#mm.plot_experr(result)"
   ]
  },
  {
   "cell_type": "markdown",
   "id": "908ffedf",
   "metadata": {},
   "source": [
    "### Export the result"
   ]
  },
  {
   "cell_type": "code",
   "execution_count": null,
   "id": "07c27ce2",
   "metadata": {},
   "outputs": [],
   "source": [
    "mm.export_reuslt(result,max_path_length,conc_lb,experr_tol)"
   ]
  },
  {
   "cell_type": "markdown",
   "id": "d6da0415",
   "metadata": {},
   "source": [
    "## 2D Scan \n",
    "\n",
    "This is for Fig.3D"
   ]
  },
  {
   "cell_type": "code",
   "execution_count": null,
   "id": "2e89bf88",
   "metadata": {},
   "outputs": [],
   "source": [
    "importlib.reload(mm)\n",
    "# ===== parameters for optimization =====\n",
    "conc_lb, FuncPieceError, max_path_length = mm.get_optimization_params()\n",
    "\n",
    "# ===== phase space to explore =====\n",
    "n = 36\n",
    "X = np.linspace(np.log10(1e-6),np.log10(10),n)\n",
    "Y = np.linspace(np.log10(1e-6),np.log10(260),n)\n",
    "\n",
    "# ===== main part =====\n",
    "result = []\n",
    "for source_indices in list(itertools.product(X,Y)):\n",
    "    source = [10**_ for _ in source_indices] + [10**-1.7]\n",
    "    result.append(mm.compute_transitivity(source, active, conc_lb, max_path_length, FuncPieceError=FuncPieceError))\n",
    "    "
   ]
  },
  {
   "cell_type": "code",
   "execution_count": null,
   "id": "5bafdeb3",
   "metadata": {},
   "outputs": [],
   "source": [
    "mm.plot_maxviol(result)"
   ]
  },
  {
   "cell_type": "code",
   "execution_count": null,
   "id": "54b8ec63",
   "metadata": {},
   "outputs": [],
   "source": [
    "mm.export_reuslt(result,max_path_length,conc_lb,FuncPieceError,prefix='2DSpace_z-1.7')"
   ]
  },
  {
   "cell_type": "markdown",
   "id": "ae936f97",
   "metadata": {},
   "source": [
    "## Computation of returnability along a 1-dim line"
   ]
  },
  {
   "cell_type": "markdown",
   "id": "2d59b3ea",
   "metadata": {},
   "source": [
    "### X-dim\n",
    "\n",
    "This is for Fig.3B"
   ]
  },
  {
   "cell_type": "code",
   "execution_count": null,
   "id": "aa70cf12",
   "metadata": {},
   "outputs": [],
   "source": [
    "# ===== Parameter setting =====\n",
    "conc_lb, FuncPieceError, max_path_length = mm.get_optimization_params()\n",
    "\n",
    "# ===== Setting the start- and end points =====\n",
    "start_point = np.array([-0.5,-4,-1.7])\n",
    "end_point = np.array([-1.5,-4,-1.7])\n",
    "BIN = 32\n",
    "dx = (end_point - start_point)/BIN\n",
    "\n",
    "# ===== main part =====\n",
    "result = []\n",
    "for i in range(BIN):\n",
    "    source = (start_point + i*dx)\n",
    "    source = [10**_ for _ in source]\n",
    "    result.append(mm.compute_transitivity(source, active, conc_lb, max_path_length, FuncPieceError=FuncPieceError))\n",
    "\n",
    "# ===== export result =====\n",
    "mm.export_trajectory(result,'X')"
   ]
  },
  {
   "cell_type": "markdown",
   "id": "914d946d",
   "metadata": {},
   "source": [
    "### Y-dim\n",
    "\n",
    "This is for Fig.3C"
   ]
  },
  {
   "cell_type": "code",
   "execution_count": null,
   "id": "07e40b09",
   "metadata": {},
   "outputs": [],
   "source": [
    "# ===== Parameter setting =====\n",
    "conc_lb, FuncPieceError, max_path_length = mm.get_optimization_params()\n",
    "\n",
    "# ===== Setting the start- and end points =====\n",
    "start_point = np.array([-4,-1.0,-1.7])\n",
    "end_point = np.array([-4,-1.6,-1.7])\n",
    "BIN = 32\n",
    "dx = (end_point - start_point)/BIN\n",
    "\n",
    "# ===== main part =====\n",
    "result = []\n",
    "for i in range(BIN):\n",
    "    source = (start_point + i*dx)\n",
    "    source = [10**_ for _ in source]\n",
    "    result.append(mm.compute_transitivity(source, active, conc_lb, max_path_length, FuncPieceError=FuncPieceError))\n",
    "\n",
    "# ===== export result =====\n",
    "mm.export_trajectory(result,'Y')"
   ]
  }
 ],
 "metadata": {
  "kernelspec": {
   "display_name": "Python 3",
   "language": "python",
   "name": "python3"
  },
  "language_info": {
   "codemirror_mode": {
    "name": "ipython",
    "version": 3
   },
   "file_extension": ".py",
   "mimetype": "text/x-python",
   "name": "python",
   "nbconvert_exporter": "python",
   "pygments_lexer": "ipython3",
   "version": "3.9.18"
  }
 },
 "nbformat": 4,
 "nbformat_minor": 5
}
